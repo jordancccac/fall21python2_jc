{
 "cells": [
  {
   "cell_type": "code",
   "execution_count": 91,
   "id": "701ae5fb",
   "metadata": {},
   "outputs": [],
   "source": [
    "import pandas as pd, json, csv, matplotlib.pyplot as plt\n",
    "\n",
    "def search_criteria (): \n",
    "    \n",
    "    '''This function will create the search criteria dictionary; keys will be the column headers; \n",
    "    values will be empty lists. The dictionary will be converted to a json file.'''\n",
    "    \n",
    "    #create dictionary of search criteria \n",
    "    search_criteria_dict={\"SchoolDistrict\":[\" \"]}\n",
    "    \n",
    "    #open a file to which the dictionary can be written\n",
    "    json_search=open('search_crit.json','w')\n",
    "    #serialize the dictionary with json \n",
    "    json.dump(search_criteria_dict,json_search)\n",
    "\n",
    "    #print confirmation messages\n",
    "    print('Search Criteria Json file created.')\n",
    "\n"
   ]
  },
  {
   "cell_type": "code",
   "execution_count": 109,
   "id": "0fe230ae",
   "metadata": {},
   "outputs": [],
   "source": [
    "def json_search_crit():\n",
    "    \n",
    "    #handle exceptions for missing files \n",
    "    try:\n",
    "    \n",
    "        '''This function will read in the empty json file search criteria, and update the \n",
    "        json dictionary with new values (School Districts) given by user.'''\n",
    "    \n",
    "        #open file for reading\n",
    "        with open('search_crit.json','r') as read_json_search:\n",
    "            \n",
    "\n",
    "        #covnert to json dictionary/python object to be operationalized \n",
    "            jread=json.load(read_json_search)\n",
    "            \n",
    "        #update json dictionary with new values given by user; use \"all\" to see all records \n",
    "        #Enter desired school district in brackets: []\n",
    "            jread['SchoolDistrict']=['Avonworth', 'Deer Lakes',\\\n",
    "                                    'Highlands', 'Montour']\n",
    "\n",
    "            #return the dictionary of desired criteria\n",
    "            return jread\n",
    "    \n",
    "    #handle exception raised by missing file\n",
    "    #print error message in final function to avoid redundant printing \n",
    "    except FileNotFoundError:\n",
    "        print('')\n",
    " \n"
   ]
  },
  {
   "cell_type": "code",
   "execution_count": 110,
   "id": "16930bef",
   "metadata": {},
   "outputs": [
    {
     "data": {
      "text/plain": [
       "<csv.DictReader at 0x26df84b7e20>"
      ]
     },
     "execution_count": 110,
     "metadata": {},
     "output_type": "execute_result"
    }
   ],
   "source": [
    "def read_csv():\n",
    "    \n",
    "    '''This function will read in the entire csv of records that provide the data\n",
    "    on lead levels'''\n",
    "    \n",
    "    try:\n",
    "        \n",
    "        #read csv file of school data into a dictionary \n",
    "        csv_read=open('schooldistrictlead.csv','r')\n",
    "        reader=csv.DictReader(csv_read)\n",
    "        \n",
    "        #return reader object \n",
    "        return reader\n",
    "    \n",
    "    except FileNotFoundError: \n",
    "        print('File may be missing; check file name.')\n",
    "        \n",
    "read_csv()\n",
    "\n"
   ]
  },
  {
   "cell_type": "code",
   "execution_count": 111,
   "id": "b1ae29b6",
   "metadata": {},
   "outputs": [],
   "source": [
    "def clean_csv():\n",
    "    \n",
    "    '''This function takes in the csv dictionaries and removes empty data. It puts it back into \n",
    "    into a list'''\n",
    "    \n",
    "    #take in csv reader object\n",
    "    reader=read_csv()\n",
    "    #make empty list to hold munged datt\n",
    "    recordlist=[]\n",
    "    \n",
    "    #test records for empty data\n",
    "    for dic in reader:\n",
    "        if '' not in dic.values():\n",
    "            #put eligible data into new list\n",
    "            recordlist.append(dic)\n",
    "            \n",
    "    #return the list \n",
    "    return recordlist\n",
    "   \n",
    "#clean_csv()"
   ]
  },
  {
   "cell_type": "code",
   "execution_count": 112,
   "id": "2d7634db",
   "metadata": {},
   "outputs": [],
   "source": [
    "import csv\n",
    "\n",
    "\n",
    "def get_records():\n",
    "    \n",
    "    '''This function will receive the desired search criteria\n",
    "    in a json dictionary. It also takes in the cleaned list of records. The two\n",
    "    are compared and matching records are put into a list.'''\n",
    "    \n",
    "    try:\n",
    "        \n",
    "        #pass in the search criteria json dictionary from the previous function \n",
    "        jsc=json_search_crit()\n",
    "        \n",
    "        #pass in list of dictionary records\n",
    "        reader=clean_csv()\n",
    "    \n",
    "        #create empty list to hold matching records\n",
    "        leadlist=[]\n",
    "       \n",
    "        #loop through the list, testing the records for the search criteria \n",
    "        for record in reader:\n",
    "            \n",
    "        \n",
    "             #compare record values with json values using in operator\n",
    "            if record[\"SchoolDistrict\"] in jsc[\"SchoolDistrict\"]:\n",
    "                if record['2015']!='':\n",
    "                    #put qualifying records into a list\n",
    "                    leadlist.append(record)\n",
    "            \n",
    "            #put all records into the list \n",
    "            if jsc[\"SchoolDistrict\"]==\"all\":\n",
    "                leadlist.append(record)\n",
    "            \n",
    "        #validate user input        \n",
    "        if leadlist==[]:\n",
    "            print('School district not found.')\n",
    "     \n",
    "        if jsc[\"SchoolDistrict\"]==[]:\n",
    "            print(\"Enter a school district.\")\n",
    "        \n",
    "        #return list of matching records\n",
    "        return leadlist\n",
    "    \n",
    "    #handle resultant exception rasied by missing file; TypeError results\n",
    "    #print comprehensive error message in this function to avoid redundant printing \n",
    "    except: \n",
    "        print('Error')\n",
    "        \n",
    "#get_records()\n"
   ]
  },
  {
   "cell_type": "code",
   "execution_count": 122,
   "id": "bab8802e",
   "metadata": {},
   "outputs": [
    {
     "name": "stdout",
     "output_type": "stream",
     "text": [
      "Matching records written as Json file.\n"
     ]
    }
   ],
   "source": [
    "def create_json():\n",
    "    \n",
    "    '''This function takes in the selected records list and writes them to a JSON file.'''\n",
    "    \n",
    "    #pass in the desired records\n",
    "    leadlist=get_records()\n",
    "    \n",
    "    \n",
    "    #open json file to write matching records \n",
    "    with open('matching_records.json','w') as lead_records:\n",
    "        \n",
    "        #serialize the list of dictionaries with json\n",
    "        json.dump(leadlist,lead_records)\n",
    "        \n",
    "        \n",
    "        print('Matching records written as Json file.')\n",
    "\n",
    "create_json()\n"
   ]
  },
  {
   "cell_type": "code",
   "execution_count": 114,
   "id": "e9f5a631",
   "metadata": {},
   "outputs": [],
   "source": [
    "import pandas as pd\n",
    "\n",
    "\n",
    "def clean_dataframe():\n",
    "    \n",
    "    '''This function will read in the matching records json file and put it into a dataframe.'''\n",
    "    \n",
    "    #open json file as a dataframe \n",
    "    school_df=pd.read_json('matching_records.json')\n",
    "    \n",
    "    #Transpose dataframe\n",
    "    school_df=school_df.T\n",
    "    #reset index to be uniform \n",
    "    school_df.reset_index(inplace=True)\n",
    "    #move row to column headers \n",
    "    school_df.columns=school_df.iloc[0]\n",
    "    #remove redundant row \n",
    "    school_df.drop(0, inplace=True)\n",
    "    #rename column \n",
    "    school_df.rename(columns={'SchoolDistrict': 'Year'}, inplace=True)\n",
    "    \n",
    "    #return cleaned dataframe\n",
    "    return school_df\n",
    "  \n",
    " \n"
   ]
  },
  {
   "cell_type": "code",
   "execution_count": 120,
   "id": "c33b432f",
   "metadata": {},
   "outputs": [],
   "source": [
    "\n",
    "def plot():\n",
    "    \n",
    "    '''This function takes in the cleaned dataframe and visualizes the data.'''\n",
    "    #take in the dataframe \n",
    "    df=clean_dataframe()\n",
    "    #get number of columsn to control the subplotting\n",
    "    shape=df.shape\n",
    "    \n",
    "    #filter large data frames to have subplots\n",
    "    if shape[1]>5:\n",
    "        \n",
    "        \n",
    "        df.plot.line(x='Year', title=\"Student Lead Levels\", subplots=True)\n",
    "        #set y axis label using matplot lib\n",
    "        plt.ylabel('% with Elevated Lead Levels')\n",
    "        plt.show()\n",
    "    else:\n",
    "        #plot data with pandas\n",
    "        graph=df.plot.line(x='Year', title=\"Student Lead Levels\")\n",
    "        #set y label with pandas \n",
    "        graph.set_ylabel(\"% with Elevated Lead Levels\")\n",
    "#plot()"
   ]
  },
  {
   "cell_type": "code",
   "execution_count": 123,
   "id": "e0083dee",
   "metadata": {
    "scrolled": false
   },
   "outputs": [
    {
     "name": "stdout",
     "output_type": "stream",
     "text": [
      "Search Criteria Json file created.\n",
      "\n",
      "Matching records written as Json file.\n",
      "\n",
      "\n"
     ]
    },
    {
     "data": {
      "image/png": "[encoded data removed]",
      "text/plain": [
       "<Figure size 432x288 with 1 Axes>"
      ]
     },
     "metadata": {
      "needs_background": "light"
     },
     "output_type": "display_data"
    }
   ],
   "source": [
    "search_criteria()\n",
    "print()\n",
    "create_json()\n",
    "print()\n",
    "json_search_crit()\n",
    "print()\n",
    "read_csv()\n",
    "plot()"
   ]
  },
  {
   "cell_type": "code",
   "execution_count": null,
   "id": "53960db6",
   "metadata": {},
   "outputs": [],
   "source": []
  },
  {
   "cell_type": "code",
   "execution_count": null,
   "id": "88feefec",
   "metadata": {},
   "outputs": [],
   "source": []
  }
 ],
 "metadata": {
  "kernelspec": {
   "display_name": "Python 3",
   "language": "python",
   "name": "python3"
  },
  "language_info": {
   "codemirror_mode": {
    "name": "ipython",
    "version": 3
   },
   "file_extension": ".py",
   "mimetype": "text/x-python",
   "name": "python",
   "nbconvert_exporter": "python",
   "pygments_lexer": "ipython3",
   "version": "3.8.8"
  }
 },
 "nbformat": 4,
 "nbformat_minor": 5
}
