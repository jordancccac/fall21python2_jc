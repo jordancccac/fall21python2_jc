{
 "cells": [
  {
   "cell_type": "code",
   "execution_count": 68,
   "id": "f319ba64",
   "metadata": {},
   "outputs": [],
   "source": [
    "import requests,re, pandas as pd, matplotlib.pyplot as plt\n",
    "from bs4 import BeautifulSoup \n",
    "\n",
    "\n",
    "def read_in():\n",
    "    \n",
    "    with open('groupon.html') as gpon:\n",
    "        #print(gpon.read())\n",
    "    \n",
    "        soup=BeautifulSoup(gpon.read(),'html.parser')\n",
    "        \n",
    "        return soup\n",
    "  "
   ]
  },
  {
   "cell_type": "code",
   "execution_count": 69,
   "id": "3c5d4445",
   "metadata": {},
   "outputs": [],
   "source": [
    "def scrape():\n",
    "    \n",
    "    #pass in BS object\n",
    "    soup=read_in()\n",
    "        \n",
    "\n",
    "\n",
    "\n",
    "    promos=soup.find_all('div', \"cui-promotions\")\n",
    "  \n",
    "    promolist=[]\n",
    "\n",
    " \n",
    "    discounts=soup.find_all('div','cui-detail-badge cui-discount-badge')\n",
    "    \n",
    "\n",
    "    \n",
    "    newpromolist=[]\n",
    "    for item in discounts:\n",
    "        promolist.append(item.text)\n",
    "    index_var=-1\n",
    "    \n",
    "    \n",
    " \n",
    "    letterlist=[]\n",
    "    while index_var<5:\n",
    "        index_var+=1\n",
    "        #print(index_var)\n",
    "        for item in promolist[index_var]:\n",
    "            #print(item)\n",
    "            letterlist.append(item)\n",
    "       # index_var+=1\n",
    "            #print(index_var)\n",
    "   \n",
    "    firstnum=0\n",
    "    secnum=1\n",
    "\n",
    "    dict1={}\n",
    "    \n",
    "    index_var=0\n",
    "    indexvar=0\n",
    "    places=soup.find_all('div','cui-udc-title one-line-truncate')\n",
    "    namelist=[]\n",
    "    for item in places:\n",
    "        namelist.append(item.get_text(strip=True))\n",
    "        dict1[namelist[index_var]]=promolist[indexvar]\n",
    "        index_var+=1\n",
    "        indexvar+=1\n",
    "  \n",
    "    \n",
    "    return dict1\n",
    "\n",
    "#scrape()\n"
   ]
  },
  {
   "cell_type": "code",
   "execution_count": 70,
   "id": "89e064da",
   "metadata": {},
   "outputs": [],
   "source": [
    "def get_data():\n",
    "    \n",
    "    #pass in dict\n",
    "    dict1=scrape()\n",
    "    \n",
    "#c=re.compile(r'(\\d+)(%)')\n",
    "#print(type(c))\n",
    "#num=c.search('47% OFF 75% 64')\n",
    "\n",
    "#print(num.group(2))\n",
    "\n",
    "    discountlist=[]\n",
    "\n",
    "    for value in dict1.values():\n",
    "    #match at least 1 occurence of a digit \n",
    "        nums=re.findall(r'\\d{1,}', value)\n",
    "        #print(nums)\n",
    "    \n",
    "#use comprehenstion to put discounts into a list (will be a list of lists)\n",
    "    disclist=[re.findall(r'\\d{1,}', value) for value in dict1.values()]\n",
    "\n",
    "#flatten the list of lists into a single list of integers \n",
    "    singlelist=([int(i) for item in disclist for i in item])\n",
    "\n",
    "    return singlelist\n",
    "\n"
   ]
  },
  {
   "cell_type": "code",
   "execution_count": 76,
   "id": "1c5b454a",
   "metadata": {},
   "outputs": [],
   "source": [
    "def visualize():\n",
    "    \n",
    "    #pass in dict \n",
    "    dict1=scrape()\n",
    "    #pass in single list of nums\n",
    "    discountlist=get_data()\n",
    "    \n",
    "    #plot \n",
    "    ax=plt.bar(dict1.keys(),discountlist)\n",
    "    #rotate x ticks to avoid overlapping\n",
    "    plt.xticks(rotation=50, ha='right')\n",
    "    plt.title(\"Activities Discounts\")\n",
    "    plt.ylabel('% Discount')\n",
    "    plt.xlabel('Establishment')\n",
    "    plt.show()\n",
    "    \n"
   ]
  },
  {
   "cell_type": "code",
   "execution_count": 77,
   "id": "d125af0a",
   "metadata": {},
   "outputs": [
    {
     "data": {
      "image/png": "[encoded data removed]",
      "text/plain": [
       "<Figure size 432x288 with 1 Axes>"
      ]
     },
     "metadata": {
      "needs_background": "light"
     },
     "output_type": "display_data"
    }
   ],
   "source": [
    "visualize()"
   ]
  },
  {
   "cell_type": "code",
   "execution_count": null,
   "id": "85f7de4e",
   "metadata": {},
   "outputs": [],
   "source": []
  }
 ],
 "metadata": {
  "kernelspec": {
   "display_name": "Python 3",
   "language": "python",
   "name": "python3"
  },
  "language_info": {
   "codemirror_mode": {
    "name": "ipython",
    "version": 3
   },
   "file_extension": ".py",
   "mimetype": "text/x-python",
   "name": "python",
   "nbconvert_exporter": "python",
   "pygments_lexer": "ipython3",
   "version": "3.8.8"
  }
 },
 "nbformat": 4,
 "nbformat_minor": 5
}
