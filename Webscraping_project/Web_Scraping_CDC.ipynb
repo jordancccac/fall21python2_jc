{
 "cells": [
  {
   "cell_type": "code",
   "execution_count": 1,
   "id": "32505690",
   "metadata": {
    "scrolled": true
   },
   "outputs": [],
   "source": [
    "import requests,re, pandas as pd, matplotlib.pyplot as plt \n",
    "from bs4 import BeautifulSoup \n",
    "\n",
    "def read_in():\n",
    "\n",
    "\n",
    "    res=requests.get('https://www.cdc.gov/sleep/data_statistics.html')\n",
    "\n",
    "    print(res)\n",
    "\n",
    "    #soup=BeautifulSoup(res.content,'html.parser')\n",
    "    if int(res.status_code)==200:\n",
    "        soup=BeautifulSoup(res.content,'html.parser')\n",
    " \n",
    "        return soup \n",
    "  "
   ]
  },
  {
   "cell_type": "code",
   "execution_count": 2,
   "id": "d6de87b6",
   "metadata": {},
   "outputs": [],
   "source": [
    "def scrape():\n",
    "    \n",
    "    #pass in BS object:\n",
    "    \n",
    "    soup=read_in()\n",
    "    \n",
    "    \n",
    "    table=soup.find(\"table\")\n",
    "    tlist=[]\n",
    "\n",
    "    \n",
    "    tdict={}\n",
    "\n",
    "    \n",
    "    index_var=0\n",
    "\n",
    "    itemtextlist=[]\n",
    "    for row in table.find_all('tr'):\n",
    "    #print(row.find('td'))\n",
    "        for td in row.find_all('td'):\n",
    "            itemtextlist.append(row.find('td').text)\n",
    "            if itemtextlist[index_var] != '':\n",
    "                tdict[row.find('th').text]=itemtextlist[index_var]\n",
    "            index_var+=1\n",
    "   \n",
    "    demog=list(tdict.keys())\n",
    "    stats=list(tdict.values())\n",
    "    \n",
    "    df=pd.DataFrame({'Demographics':demog,\"% with Short Sleep\":stats})\n",
    "    \n",
    "    \n",
    "    changed={'% with Short Sleep':float}\n",
    "    df=df.astype(changed)\n",
    "   # print(df.dtypes)\n",
    "    return df"
   ]
  },
  {
   "cell_type": "code",
   "execution_count": 3,
   "id": "3a8c7f00",
   "metadata": {},
   "outputs": [
    {
     "name": "stdout",
     "output_type": "stream",
     "text": [
      "<Response [200]>\n"
     ]
    },
    {
     "data": {
      "text/html": [
       "<div>\n",
       "<style scoped>\n",
       "    .dataframe tbody tr th:only-of-type {\n",
       "        vertical-align: middle;\n",
       "    }\n",
       "\n",
       "    .dataframe tbody tr th {\n",
       "        vertical-align: top;\n",
       "    }\n",
       "\n",
       "    .dataframe thead th {\n",
       "        text-align: right;\n",
       "    }\n",
       "</style>\n",
       "<table border=\"1\" class=\"dataframe\">\n",
       "  <thead>\n",
       "    <tr style=\"text-align: right;\">\n",
       "      <th></th>\n",
       "      <th>Demographics</th>\n",
       "      <th>% with Short Sleep</th>\n",
       "    </tr>\n",
       "  </thead>\n",
       "  <tbody>\n",
       "    <tr>\n",
       "      <th>0</th>\n",
       "      <td>All Adultsa</td>\n",
       "      <td>35.2</td>\n",
       "    </tr>\n",
       "    <tr>\n",
       "      <th>1</th>\n",
       "      <td>Men</td>\n",
       "      <td>35.5</td>\n",
       "    </tr>\n",
       "    <tr>\n",
       "      <th>2</th>\n",
       "      <td>Women</td>\n",
       "      <td>34.8</td>\n",
       "    </tr>\n",
       "    <tr>\n",
       "      <th>3</th>\n",
       "      <td>18–24</td>\n",
       "      <td>32.2</td>\n",
       "    </tr>\n",
       "    <tr>\n",
       "      <th>4</th>\n",
       "      <td>25–34</td>\n",
       "      <td>37.9</td>\n",
       "    </tr>\n",
       "    <tr>\n",
       "      <th>5</th>\n",
       "      <td>35–44</td>\n",
       "      <td>38.3</td>\n",
       "    </tr>\n",
       "    <tr>\n",
       "      <th>6</th>\n",
       "      <td>45–54</td>\n",
       "      <td>39.0</td>\n",
       "    </tr>\n",
       "    <tr>\n",
       "      <th>7</th>\n",
       "      <td>55–64</td>\n",
       "      <td>35.6</td>\n",
       "    </tr>\n",
       "    <tr>\n",
       "      <th>8</th>\n",
       "      <td>≥65</td>\n",
       "      <td>26.3</td>\n",
       "    </tr>\n",
       "    <tr>\n",
       "      <th>9</th>\n",
       "      <td>White</td>\n",
       "      <td>33.4</td>\n",
       "    </tr>\n",
       "    <tr>\n",
       "      <th>10</th>\n",
       "      <td>Hispanic</td>\n",
       "      <td>34.5</td>\n",
       "    </tr>\n",
       "    <tr>\n",
       "      <th>11</th>\n",
       "      <td>Black</td>\n",
       "      <td>45.8</td>\n",
       "    </tr>\n",
       "    <tr>\n",
       "      <th>12</th>\n",
       "      <td>Asian</td>\n",
       "      <td>37.5</td>\n",
       "    </tr>\n",
       "    <tr>\n",
       "      <th>13</th>\n",
       "      <td>American Indian/Alaska Native</td>\n",
       "      <td>40.4</td>\n",
       "    </tr>\n",
       "    <tr>\n",
       "      <th>14</th>\n",
       "      <td>Native Hawaiian/Pacific Islander</td>\n",
       "      <td>46.3</td>\n",
       "    </tr>\n",
       "    <tr>\n",
       "      <th>15</th>\n",
       "      <td>Other/Multiracial</td>\n",
       "      <td>44.3</td>\n",
       "    </tr>\n",
       "  </tbody>\n",
       "</table>\n",
       "</div>"
      ],
      "text/plain": [
       "                        Demographics  % with Short Sleep\n",
       "0                        All Adultsa                35.2\n",
       "1                                Men                35.5\n",
       "2                              Women                34.8\n",
       "3                              18–24                32.2\n",
       "4                              25–34                37.9\n",
       "5                              35–44                38.3\n",
       "6                              45–54                39.0\n",
       "7                              55–64                35.6\n",
       "8                                ≥65                26.3\n",
       "9                              White                33.4\n",
       "10                          Hispanic                34.5\n",
       "11                             Black                45.8\n",
       "12                             Asian                37.5\n",
       "13     American Indian/Alaska Native                40.4\n",
       "14  Native Hawaiian/Pacific Islander                46.3\n",
       "15                 Other/Multiracial                44.3"
      ]
     },
     "execution_count": 3,
     "metadata": {},
     "output_type": "execute_result"
    }
   ],
   "source": [
    "scrape()"
   ]
  },
  {
   "cell_type": "code",
   "execution_count": 3,
   "id": "642f87ec",
   "metadata": {},
   "outputs": [],
   "source": [
    "def visualize ():\n",
    "    \n",
    "    #pass in the df\n",
    "\n",
    "    df=scrape()\n",
    "    \n",
    "   # print(df)\n",
    "    df.plot(x='Demographics',y='% with Short Sleep',kind='bar',fontsize=14,legend=False, figsize=(8,8))\n",
    "    plt.ylabel('% with Short Sleep', fontsize=13)\n",
    "    plt.xlabel('Demographics', fontsize=13)\n",
    "    plt.title('Demographic Breakdown of Americans with Short Sleep', fontsize=12)\n",
    "    plt.show()\n",
    "    \n",
    "    \n",
    "    \n",
    "    "
   ]
  },
  {
   "cell_type": "code",
   "execution_count": 4,
   "id": "6811900e",
   "metadata": {},
   "outputs": [
    {
     "name": "stdout",
     "output_type": "stream",
     "text": [
      "<Response [200]>\n"
     ]
    },
    {
     "data": {
      "image/png": "[encoded data removed]",
      "text/plain": [
       "<Figure size 576x576 with 1 Axes>"
      ]
     },
     "metadata": {
      "needs_background": "light"
     },
     "output_type": "display_data"
    }
   ],
   "source": [
    "visualize()"
   ]
  },
  {
   "cell_type": "code",
   "execution_count": null,
   "id": "be0bd89a",
   "metadata": {},
   "outputs": [],
   "source": []
  },
  {
   "cell_type": "code",
   "execution_count": null,
   "id": "6b2a6710",
   "metadata": {},
   "outputs": [],
   "source": []
  },
  {
   "cell_type": "code",
   "execution_count": null,
   "id": "5d83e495",
   "metadata": {},
   "outputs": [],
   "source": []
  }
 ],
 "metadata": {
  "kernelspec": {
   "display_name": "Python 3",
   "language": "python",
   "name": "python3"
  },
  "language_info": {
   "codemirror_mode": {
    "name": "ipython",
    "version": 3
   },
   "file_extension": ".py",
   "mimetype": "text/x-python",
   "name": "python",
   "nbconvert_exporter": "python",
   "pygments_lexer": "ipython3",
   "version": "3.8.8"
  }
 },
 "nbformat": 4,
 "nbformat_minor": 5
}
