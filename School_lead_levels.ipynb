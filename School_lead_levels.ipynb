{
 "cells": [
  {
   "cell_type": "code",
   "execution_count": 141,
   "id": "3f95c3dc",
   "metadata": {},
   "outputs": [],
   "source": [
    "#import json library \n",
    "\n",
    "import json \n",
    "\n",
    "def search_criteria (): \n",
    "    \n",
    "    '''This function will define the search criteria in a dictionary; keys will be the column headers; \n",
    "    values will be empty lists. The dictionary will be converted to json.'''\n",
    "    \n",
    "    #create dictionary of search criteria \n",
    "    \n",
    "    search_criteria_dict={\"SchoolDistrict\":[\"\"]}\n",
    "    \n",
    "    #serialize the dictionary with json; not using 'with' open becuase with will close the file immediatley, making it \n",
    "    #unavailable to other functions.\n",
    "    json_search=open('search_crit.json','w')\n",
    "    \n",
    "    json.dump(search_criteria_dict,json_search)\n",
    "    \n",
    "\n",
    "    #print confirmation messages\n",
    "    print('Criteria written to json.')\n",
    "    \n",
    "    \n",
    "   "
   ]
  },
  {
   "cell_type": "code",
   "execution_count": 142,
   "id": "0fe230ae",
   "metadata": {},
   "outputs": [],
   "source": [
    "def json_search_crit():\n",
    "    \n",
    "    '''This function will read in the json file search criteria, and update the \n",
    "    json dictionary with new values given entered by other user.'''\n",
    "    \n",
    "    #open file for reading \n",
    "    read_json_search=open('search_crit.json','r')\n",
    "    \n",
    "    #covnert to json dictionary object with load \n",
    "    jread=json.load(read_json_search)\n",
    "    \n",
    "    #update json dictionary with new values to be given by user; use \"all\" to see all records \n",
    "    jread['SchoolDistrict']=[\"Deer Lakes\", \"Avonworth\"]\n",
    "    \n",
    "\n",
    "    \n",
    "    return jread\n",
    "  \n",
    "    "
   ]
  },
  {
   "cell_type": "code",
   "execution_count": 143,
   "id": "2d7634db",
   "metadata": {},
   "outputs": [],
   "source": [
    "import csv\n",
    "\n",
    "\n",
    "def read_csv():\n",
    "    \n",
    "    \n",
    "    '''This function will read in the entire csv lead levels file. This function will receive the search criteria\n",
    "    in a json dictionary from the above function. The CSV file is iterated through, using the JSON file as\n",
    "    a filter; qualifying records are written to another json file.'''\n",
    "        \n",
    "    #pass in the search criteria json dictionary from the previous function \n",
    "    jsc=json_search_crit()\n",
    "    \n",
    "    #create empty list to hold matching records\n",
    "    leadlist=[]\n",
    "\n",
    "    #read csv file into a dictionary \n",
    "    csv_read=open('schooldistrictlead.csv','r')\n",
    "    reader=csv.DictReader(csv_read)\n",
    "        \n",
    "    #loop through the csv file using the json dictionary \n",
    "    for record in reader:\n",
    "        \n",
    "        #compare record values with json values using in operator \n",
    "        if record[\"SchoolDistrict\"] in jsc[\"SchoolDistrict\"]:\n",
    "            leadlist.append(record)\n",
    "        \n",
    "        if jsc[\"SchoolDistrict\"]==\"all\":\n",
    "            leadlist.append(record)\n",
    "        \n",
    "    \n",
    "          \n",
    "    #validate user input \n",
    "    if jsc[\"SchoolDistrict\"]==[]:\n",
    "        print(\"Enter a school district.\")\n",
    "        \n",
    "       \n",
    "    \n",
    "    #open json file to write matching records \n",
    "    with open('matching_records.json','w') as lead_records:\n",
    "        json.dump(leadlist,lead_records)\n",
    "        print()\n",
    "        print('Json records written.')\n",
    "                                \n",
    "    \n"
   ]
  },
  {
   "cell_type": "code",
   "execution_count": 144,
   "id": "e0083dee",
   "metadata": {
    "scrolled": false
   },
   "outputs": [
    {
     "name": "stdout",
     "output_type": "stream",
     "text": [
      "Criteria written to json.\n",
      "\n",
      "\n",
      "\n",
      "Json records written.\n"
     ]
    }
   ],
   "source": [
    "search_criteria()\n",
    "print()\n",
    "json_search_crit()\n",
    "print()\n",
    "read_csv()"
   ]
  }
 ],
 "metadata": {
  "kernelspec": {
   "display_name": "Python 3",
   "language": "python",
   "name": "python3"
  },
  "language_info": {
   "codemirror_mode": {
    "name": "ipython",
    "version": 3
   },
   "file_extension": ".py",
   "mimetype": "text/x-python",
   "name": "python",
   "nbconvert_exporter": "python",
   "pygments_lexer": "ipython3",
   "version": "3.8.8"
  }
 },
 "nbformat": 4,
 "nbformat_minor": 5
}
