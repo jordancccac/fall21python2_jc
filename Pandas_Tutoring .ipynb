{
 "cells": [
  {
   "cell_type": "code",
   "execution_count": 19,
   "id": "debf2695",
   "metadata": {},
   "outputs": [
    {
     "name": "stdout",
     "output_type": "stream",
     "text": [
      "[78 90 98]\n",
      "[[89 92 90]\n",
      " [76 89 85]]\n"
     ]
    },
    {
     "data": {
      "text/html": [
       "<div>\n",
       "<style scoped>\n",
       "    .dataframe tbody tr th:only-of-type {\n",
       "        vertical-align: middle;\n",
       "    }\n",
       "\n",
       "    .dataframe tbody tr th {\n",
       "        vertical-align: top;\n",
       "    }\n",
       "\n",
       "    .dataframe thead th {\n",
       "        text-align: right;\n",
       "    }\n",
       "</style>\n",
       "<table border=\"1\" class=\"dataframe\">\n",
       "  <thead>\n",
       "    <tr style=\"text-align: right;\">\n",
       "      <th></th>\n",
       "      <th>0</th>\n",
       "      <th>1</th>\n",
       "      <th>2</th>\n",
       "    </tr>\n",
       "  </thead>\n",
       "  <tbody>\n",
       "    <tr>\n",
       "      <th>0</th>\n",
       "      <td>89</td>\n",
       "      <td>92</td>\n",
       "      <td>90</td>\n",
       "    </tr>\n",
       "    <tr>\n",
       "      <th>1</th>\n",
       "      <td>76</td>\n",
       "      <td>89</td>\n",
       "      <td>85</td>\n",
       "    </tr>\n",
       "  </tbody>\n",
       "</table>\n",
       "</div>"
      ],
      "text/plain": [
       "    0   1   2\n",
       "0  89  92  90\n",
       "1  76  89  85"
      ]
     },
     "execution_count": 19,
     "metadata": {},
     "output_type": "execute_result"
    }
   ],
   "source": [
    "#import numpy as np\n",
    "import numpy as np \n",
    "\n",
    "#import pandas pd\n",
    "import pandas as pd \n",
    "\n",
    "#create 1D array; display \n",
    "grades=np.array([78,90,98])\n",
    "\n",
    "print(grades)\n",
    "\n",
    "#turn above array into a Series using: pd.Series()\n",
    "grades_series=pd.Series(grades)\n",
    "\n",
    "grades_series\n",
    "\n",
    "#create 2D array; display \n",
    "\n",
    "grades2=np.array([[89,92,90], [76,89,85]])\n",
    "\n",
    "print(grades2)\n",
    "\n",
    "#turn above 2D array into DataFrame using: pd.DataFrame()\n",
    "grades2_df=pd.DataFrame(grades2)\n",
    "\n",
    "grades2_df\n",
    "\n",
    "\n",
    "\n"
   ]
  },
  {
   "cell_type": "code",
   "execution_count": 13,
   "id": "88508b56",
   "metadata": {},
   "outputs": [
    {
     "name": "stdout",
     "output_type": "stream",
     "text": [
      "   Baltimore  Philly\n",
      "0         56      79\n",
      "1         57      77\n"
     ]
    },
    {
     "data": {
      "text/html": [
       "<div>\n",
       "<style scoped>\n",
       "    .dataframe tbody tr th:only-of-type {\n",
       "        vertical-align: middle;\n",
       "    }\n",
       "\n",
       "    .dataframe tbody tr th {\n",
       "        vertical-align: top;\n",
       "    }\n",
       "\n",
       "    .dataframe thead th {\n",
       "        text-align: right;\n",
       "    }\n",
       "</style>\n",
       "<table border=\"1\" class=\"dataframe\">\n",
       "  <thead>\n",
       "    <tr style=\"text-align: right;\">\n",
       "      <th></th>\n",
       "      <th>Baltimore</th>\n",
       "      <th>Philly</th>\n",
       "    </tr>\n",
       "  </thead>\n",
       "  <tbody>\n",
       "    <tr>\n",
       "      <th>2020</th>\n",
       "      <td>56.0</td>\n",
       "      <td>79.0</td>\n",
       "    </tr>\n",
       "    <tr>\n",
       "      <th>2021</th>\n",
       "      <td>57.0</td>\n",
       "      <td>77.0</td>\n",
       "    </tr>\n",
       "    <tr>\n",
       "      <th>0</th>\n",
       "      <td>51.0</td>\n",
       "      <td>NaN</td>\n",
       "    </tr>\n",
       "  </tbody>\n",
       "</table>\n",
       "</div>"
      ],
      "text/plain": [
       "      Baltimore  Philly\n",
       "2020       56.0    79.0\n",
       "2021       57.0    77.0\n",
       "0          51.0     NaN"
      ]
     },
     "execution_count": 13,
     "metadata": {},
     "output_type": "execute_result"
    }
   ],
   "source": [
    "#create dataframe from dictionary; peers follow along \n",
    "\n",
    "#choices:\n",
    "#temps=pd.dataframe({'Baltimore':[56, 57], 'Philly':[79,77]})\n",
    "temps=pd.DataFrame({'Baltimore':[56, 57], 'Philly':[79,77]})\n",
    "#temps=pd.DataFrame{'Baltimore':[56, 57], 'Philly':[79,77]}\n",
    "\n",
    "print(temps)\n",
    "\n",
    "#index the dataframe row with iloc and column as is \n",
    "temps.iloc[0]\n",
    "temps['Baltimore']\n",
    "\n",
    "\n",
    "#create custom index of years; use loc for strings and out of range integers \n",
    "temps=pd.DataFrame({'Baltimore':[56, 57], 'Philly':[79,77]}, index=[2020, 2021])\n",
    "\n",
    "temps.iloc[0]\n",
    "\n",
    "#change the value of Baltimore's 1st temperature to 51 with the structure: dataframe.at[row, index]= value\n",
    "\n",
    "\n",
    "\n",
    "#choices:\n",
    "#temps.at[0, 'Baltimore']=51\n",
    "#temps.at(2020,'Baltimore')=51\n",
    "temps.at[2020, 'Baltimore']=51\n",
    "\n",
    "\n",
    "\n",
    "\n",
    "    "
   ]
  },
  {
   "cell_type": "code",
   "execution_count": 21,
   "id": "ca099ebf",
   "metadata": {},
   "outputs": [
    {
     "name": "stdout",
     "output_type": "stream",
     "text": [
      "  SchoolDistrict  2015  2016  2017  2018  2019  2020\n",
      "0     Deer Lakes  0.00  0.00  0.73   0.0  0.49  0.79\n",
      "1      Highlands  1.15  1.67  2.46   2.4  1.86  1.99\n"
     ]
    },
    {
     "data": {
      "text/html": [
       "<div>\n",
       "<style scoped>\n",
       "    .dataframe tbody tr th:only-of-type {\n",
       "        vertical-align: middle;\n",
       "    }\n",
       "\n",
       "    .dataframe tbody tr th {\n",
       "        vertical-align: top;\n",
       "    }\n",
       "\n",
       "    .dataframe thead th {\n",
       "        text-align: right;\n",
       "    }\n",
       "</style>\n",
       "<table border=\"1\" class=\"dataframe\">\n",
       "  <thead>\n",
       "    <tr style=\"text-align: right;\">\n",
       "      <th></th>\n",
       "      <th>SchoolDistrict</th>\n",
       "      <th>2015</th>\n",
       "      <th>2016</th>\n",
       "      <th>2017</th>\n",
       "      <th>2018</th>\n",
       "      <th>2019</th>\n",
       "      <th>2020</th>\n",
       "      <th>2021</th>\n",
       "    </tr>\n",
       "  </thead>\n",
       "  <tbody>\n",
       "    <tr>\n",
       "      <th>0</th>\n",
       "      <td>Deer Lakes</td>\n",
       "      <td>0.00</td>\n",
       "      <td>0.00</td>\n",
       "      <td>0.73</td>\n",
       "      <td>0.0</td>\n",
       "      <td>0.49</td>\n",
       "      <td>0.79</td>\n",
       "      <td>1.54</td>\n",
       "    </tr>\n",
       "    <tr>\n",
       "      <th>1</th>\n",
       "      <td>Highlands</td>\n",
       "      <td>1.15</td>\n",
       "      <td>1.67</td>\n",
       "      <td>2.46</td>\n",
       "      <td>2.4</td>\n",
       "      <td>1.86</td>\n",
       "      <td>1.99</td>\n",
       "      <td>1.88</td>\n",
       "    </tr>\n",
       "  </tbody>\n",
       "</table>\n",
       "</div>"
      ],
      "text/plain": [
       "  SchoolDistrict  2015  2016  2017  2018  2019  2020  2021\n",
       "0     Deer Lakes  0.00  0.00  0.73   0.0  0.49  0.79  1.54\n",
       "1      Highlands  1.15  1.67  2.46   2.4  1.86  1.99  1.88"
      ]
     },
     "execution_count": 21,
     "metadata": {},
     "output_type": "execute_result"
    }
   ],
   "source": [
    "\n",
    "#read a JSON file into a dataframe \n",
    "\n",
    "school_df=pd.read_json('matching_records.json')\n",
    "\n",
    "print(school_df)\n",
    "#add a column of 2021 with the structure: dataframe.insert(position, column name, [value 1, value 2, etc.])\n",
    "\n",
    "\n",
    "\n",
    "#choices:\n",
    "#school_df.insert(6, 2021, [1.54,1.88])\n",
    "#school_df.insert(7, 2021, (1.54, 1.88))\n",
    "school_df.insert(7, 2021, [1.54, 1.88])\n",
    "\n",
    "\n",
    "\n",
    "school_df\n",
    "\n"
   ]
  },
  {
   "cell_type": "code",
   "execution_count": 8,
   "id": "54043eb9",
   "metadata": {},
   "outputs": [],
   "source": [
    "#Independent activity \n",
    "\n",
    "#1. create dataframe any way you want(read in a json, pass a dictionary, etc. )\n",
    "#2. choose at least one manipulation covered in the lesson and perform it (indexing, changing values, inserting a new column)\n",
    "\n",
    "\n"
   ]
  },
  {
   "cell_type": "code",
   "execution_count": 9,
   "id": "1228c4b0",
   "metadata": {},
   "outputs": [],
   "source": [
    "#Extension activity \n",
    "#1. create a dataframe and delete columns, and add rows, and delete them. \n",
    "#2. join 2 series into a dataframe and give it custom row labels, and custom column lables, both strings and integers\n",
    "#and index them."
   ]
  }
 ],
 "metadata": {
  "kernelspec": {
   "display_name": "Python 3",
   "language": "python",
   "name": "python3"
  },
  "language_info": {
   "codemirror_mode": {
    "name": "ipython",
    "version": 3
   },
   "file_extension": ".py",
   "mimetype": "text/x-python",
   "name": "python",
   "nbconvert_exporter": "python",
   "pygments_lexer": "ipython3",
   "version": "3.8.8"
  }
 },
 "nbformat": 4,
 "nbformat_minor": 5
}
