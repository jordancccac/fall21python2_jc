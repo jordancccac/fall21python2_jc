{
 "cells": [
  {
   "cell_type": "code",
   "execution_count": 5,
   "id": "debf2695",
   "metadata": {},
   "outputs": [],
   "source": [
    "#import numpy as np\n",
    "\n",
    "\n",
    "#import pandas pd\n",
    " \n",
    "\n",
    "#create 1D array; display \n",
    "\n",
    "\n",
    "\n",
    "#turn above array into a Series using: pd.Series()\n",
    "\n",
    "\n",
    "#create 2D array; display \n",
    "\n",
    "\n",
    "#turn above 2D array into DataFrame using: pd.DataFrame()\n",
    "\n",
    "\n",
    "\n",
    "\n",
    "\n"
   ]
  },
  {
   "cell_type": "code",
   "execution_count": 6,
   "id": "88508b56",
   "metadata": {},
   "outputs": [],
   "source": [
    "#create dataframe from dictionary; peers follow along \n",
    "\n",
    "#choices:\n",
    "#temps=pd.dataframe({'Baltimore':[56, 57], 'Philly':[79,77]})\n",
    "#temps=pd.DataFrame({'Baltimore':[56, 57], 'Philly':[79,77]})\n",
    "#temps=pd.DataFrame{'Baltimore':[56, 57], 'Philly':[79,77]}\n",
    "\n",
    "\n",
    "#index the dataframe row with iloc and column as is \n",
    "\n",
    "\n",
    "#create custom index of years; use loc for strings and out of range integers \n",
    "\n",
    "\n",
    "#change the value of Baltimore's 1st temperature to 51 with the structure: dataframe.at[row, index]= value\n",
    "\n",
    "\n",
    "\n",
    "#choices:\n",
    "#temps.at[0, 'Baltimore']=51\n",
    "#temps.at(2020,'Baltimore')=51\n",
    "#temps.at[2020, 'Baltimore']=51\n",
    "\n",
    "\n",
    "\n",
    "    "
   ]
  },
  {
   "cell_type": "code",
   "execution_count": 7,
   "id": "ca099ebf",
   "metadata": {},
   "outputs": [],
   "source": [
    "\n",
    "#read a JSON file into a dataframe \n",
    "\n",
    "\n",
    "\n",
    "\n",
    "#add a column of 2021 with the structure: dataframe.insert(position, column name, [value 1, value 2, etc.])\n",
    "\n",
    "\n",
    "\n",
    "#choices:\n",
    "#school_df.insert(6, 2021, [1.54,1.88])\n",
    "#school_df.insert(7, 2021, (1.54, 1.88))\n",
    "#school_df.insert(7, 2021, [1.54, 1.88])\n",
    "\n",
    "\n",
    "\n",
    "\n",
    "\n"
   ]
  },
  {
   "cell_type": "code",
   "execution_count": 8,
   "id": "54043eb9",
   "metadata": {},
   "outputs": [],
   "source": [
    "#Independent activity \n",
    "\n",
    "#1. create dataframe any way you want(read in a json, pass a dictionary, etc. )\n",
    "#2. choose at least one manipulation covered in the lesson and perform it (indexing, changing values, inserting a new column)\n",
    "\n",
    "\n"
   ]
  },
  {
   "cell_type": "code",
   "execution_count": 9,
   "id": "1228c4b0",
   "metadata": {},
   "outputs": [],
   "source": [
    "#Extension activity \n",
    "#1. create a dataframe and delete columns, and add rows, and delete them. \n",
    "#2. join 2 series into a dataframe and give it custom row labels, and custom column lables, both strings and integers\n",
    "#and index them."
   ]
  }
 ],
 "metadata": {
  "kernelspec": {
   "display_name": "Python 3",
   "language": "python",
   "name": "python3"
  },
  "language_info": {
   "codemirror_mode": {
    "name": "ipython",
    "version": 3
   },
   "file_extension": ".py",
   "mimetype": "text/x-python",
   "name": "python",
   "nbconvert_exporter": "python",
   "pygments_lexer": "ipython3",
   "version": "3.8.8"
  }
 },
 "nbformat": 4,
 "nbformat_minor": 5
}
